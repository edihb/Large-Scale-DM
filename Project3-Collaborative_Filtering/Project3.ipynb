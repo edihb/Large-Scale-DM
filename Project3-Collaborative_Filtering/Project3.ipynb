{
 "cells": [
  {
   "cell_type": "code",
   "execution_count": 2,
   "metadata": {},
   "outputs": [],
   "source": [
    "import pandas as pd\n",
    "import matplotlib.pyplot as plt\n",
    "import numpy as np"
   ]
  },
  {
   "cell_type": "code",
   "execution_count": 3,
   "metadata": {},
   "outputs": [
    {
     "data": {
      "text/html": [
       "<div>\n",
       "<style scoped>\n",
       "    .dataframe tbody tr th:only-of-type {\n",
       "        vertical-align: middle;\n",
       "    }\n",
       "\n",
       "    .dataframe tbody tr th {\n",
       "        vertical-align: top;\n",
       "    }\n",
       "\n",
       "    .dataframe thead th {\n",
       "        text-align: right;\n",
       "    }\n",
       "</style>\n",
       "<table border=\"1\" class=\"dataframe\">\n",
       "  <thead>\n",
       "    <tr style=\"text-align: right;\">\n",
       "      <th></th>\n",
       "      <th>userId</th>\n",
       "      <th>movieId</th>\n",
       "      <th>rating</th>\n",
       "      <th>timestamp</th>\n",
       "    </tr>\n",
       "  </thead>\n",
       "  <tbody>\n",
       "    <tr>\n",
       "      <th>0</th>\n",
       "      <td>1</td>\n",
       "      <td>31</td>\n",
       "      <td>2.5</td>\n",
       "      <td>1260759144</td>\n",
       "    </tr>\n",
       "    <tr>\n",
       "      <th>1</th>\n",
       "      <td>1</td>\n",
       "      <td>1029</td>\n",
       "      <td>3.0</td>\n",
       "      <td>1260759179</td>\n",
       "    </tr>\n",
       "    <tr>\n",
       "      <th>2</th>\n",
       "      <td>1</td>\n",
       "      <td>1061</td>\n",
       "      <td>3.0</td>\n",
       "      <td>1260759182</td>\n",
       "    </tr>\n",
       "    <tr>\n",
       "      <th>3</th>\n",
       "      <td>1</td>\n",
       "      <td>1129</td>\n",
       "      <td>2.0</td>\n",
       "      <td>1260759185</td>\n",
       "    </tr>\n",
       "    <tr>\n",
       "      <th>4</th>\n",
       "      <td>1</td>\n",
       "      <td>1172</td>\n",
       "      <td>4.0</td>\n",
       "      <td>1260759205</td>\n",
       "    </tr>\n",
       "  </tbody>\n",
       "</table>\n",
       "</div>"
      ],
      "text/plain": [
       "   userId  movieId  rating   timestamp\n",
       "0       1       31     2.5  1260759144\n",
       "1       1     1029     3.0  1260759179\n",
       "2       1     1061     3.0  1260759182\n",
       "3       1     1129     2.0  1260759185\n",
       "4       1     1172     4.0  1260759205"
      ]
     },
     "execution_count": 3,
     "metadata": {},
     "output_type": "execute_result"
    }
   ],
   "source": [
    "dataset = pd.read_csv('ml-latest-small/ratings.csv')\n",
    "dataset.head()"
   ]
  },
  {
   "cell_type": "code",
   "execution_count": 4,
   "metadata": {},
   "outputs": [
    {
     "name": "stdout",
     "output_type": "stream",
     "text": [
      "Sparsity:  0.016439141608663475\n"
     ]
    }
   ],
   "source": [
    "# Question 1\n",
    "num_movies = dataset['movieId'].nunique()\n",
    "num_users = dataset['userId'].nunique()\n",
    "sparsity = dataset.shape[0]/(num_users*num_movies)\n",
    "print(\"Sparsity: \", sparsity)"
   ]
  },
  {
   "cell_type": "code",
   "execution_count": 5,
   "metadata": {},
   "outputs": [
    {
     "data": {
      "image/png": "[encoded data removed]",
      "text/plain": [
       "<matplotlib.figure.Figure at 0x105496240>"
      ]
     },
     "metadata": {},
     "output_type": "display_data"
    }
   ],
   "source": [
    "# Question 2\n",
    "plt.hist(dataset['rating'],bins=np.arange(0, 5 + 0.5, 0.5))\n",
    "plt.xticks(np.arange(0,5.5,0.5))\n",
    "plt.xlabel(\"Ratings\")\n",
    "plt.ylabel(\"# Movies\")\n",
    "plt.show()"
   ]
  },
  {
   "cell_type": "code",
   "execution_count": 17,
   "metadata": {},
   "outputs": [
    {
     "data": {
      "text/plain": [
       "Text(0.5,0,'Movie ID')"
      ]
     },
     "execution_count": 17,
     "metadata": {},
     "output_type": "execute_result"
    },
    {
     "data": {
      "image/png": "[encoded data removed]",
      "text/plain": [
       "<matplotlib.figure.Figure at 0x10b40e4a8>"
      ]
     },
     "metadata": {},
     "output_type": "display_data"
    }
   ],
   "source": [
    "# Question 3\n",
    "from collections import Counter\n",
    "movie_ids = dataset['movieId']\n",
    "movie_ratings_dict = dict(Counter(movie_ids))\n",
    "plt.plot(range(0,len(movie_ratings_dict.keys())), sorted(movie_ratings_dict.values(),reverse=True))\n",
    "plt.ylabel(\"# Ratings\")\n",
    "plt.xlabel(\"Movie ID\")"
   ]
  },
  {
   "cell_type": "code",
   "execution_count": 18,
   "metadata": {},
   "outputs": [
    {
     "data": {
      "text/plain": [
       "Text(0.5,0,'User ID')"
      ]
     },
     "execution_count": 18,
     "metadata": {},
     "output_type": "execute_result"
    },
    {
     "data": {
      "image/png": "[encoded data removed]",
      "text/plain": [
       "<matplotlib.figure.Figure at 0x10b40eba8>"
      ]
     },
     "metadata": {},
     "output_type": "display_data"
    }
   ],
   "source": [
    "# Question 4\n",
    "user_ids = dataset['userId']\n",
    "user_ratings_dict = dict(Counter(user_ids))\n",
    "plt.plot(range(0,len(user_ratings_dict.keys())), sorted(user_ratings_dict.values(),reverse=True))\n",
    "plt.ylabel(\"# Movies rated\")\n",
    "plt.xlabel(\"User ID\")"
   ]
  },
  {
   "cell_type": "code",
   "execution_count": 19,
   "metadata": {},
   "outputs": [
    {
     "data": {
      "image/png": "[encoded data removed]",
      "text/plain": [
       "<matplotlib.figure.Figure at 0x10b897ba8>"
      ]
     },
     "metadata": {},
     "output_type": "display_data"
    }
   ],
   "source": [
    "# Question 6\n",
    "var_list = list(dataset[['movieId','rating']].groupby('movieId').var()['rating'])\n",
    "plt.hist(np.nan_to_num(var_list),bins=np.arange(min(var_list), max(var_list), 0.5))\n",
    "plt.xlabel(\"Variance\")\n",
    "plt.ylabel(\"# Movies\")\n",
    "plt.show()"
   ]
  },
  {
   "cell_type": "code",
   "execution_count": 20,
   "metadata": {},
   "outputs": [],
   "source": [
    "id_var = (dataset[['movieId','rating']].groupby('movieId',as_index=False)).var().fillna(0)\n",
    "id_var_dict = dict(zip(list(id_var['movieId']), id_var['rating']))"
   ]
  },
  {
   "cell_type": "code",
   "execution_count": 21,
   "metadata": {},
   "outputs": [],
   "source": [
    "popular_movieids = [x[0] for x in movie_ratings_dict.items() if x[1]>2]\n",
    "unpopular_movieids = [x[0] for x in movie_ratings_dict.items() if x[1]<=2]\n",
    "high_variance_movieids = [x[0] for x in movie_ratings_dict.items() if x[1]>=5]\n",
    "high_variance_movieids = [x for x in high_variance_movieids if id_var_dict[x]>=2 ]"
   ]
  },
  {
   "cell_type": "code",
   "execution_count": 22,
   "metadata": {},
   "outputs": [],
   "source": [
    "popular_movie_dataset = dataset.loc[dataset['movieId'].isin(popular_movieids)]\n",
    "unpopular_movie_dataset = dataset.loc[dataset['movieId'].isin(unpopular_movieids)]\n",
    "highvar_movie_dataset = dataset.loc[dataset['movieId'].isin(high_variance_movieids)]"
   ]
  },
  {
   "cell_type": "code",
   "execution_count": 23,
   "metadata": {},
   "outputs": [],
   "source": [
    "def get_popular_dataset(testset):\n",
    "    popular_movieids = [x[0] for x in movie_ratings_dict.items() if x[1]>2]\n",
    "    popular_movie_dataset = dataset.loc[dataset['movieId'].isin(popular_movieids)]\n",
    "    return popular_movie_dataset\n",
    "\n",
    "def get_unpopular_dataset(testset):\n",
    "    unpopular_movieids = [x[0] for x in movie_ratings_dict.items() if x[1]<=2]\n",
    "    unpopular_movie_dataset = dataset.loc[dataset['movieId'].isin(unpopular_movieids)]\n",
    "    return unpopular_movie_dataset\n",
    "\n",
    "def get_highvar_dataset(testset):\n",
    "    high_variance_movieids = [x[0] for x in movie_ratings_dict.items() if x[1]>=5]\n",
    "    high_variance_movieids = [x for x in high_variance_movieids if id_var_dict[x]>=2 ]\n",
    "    highvar_movie_dataset = dataset.loc[dataset['movieId'].isin(high_variance_movieids)]\n",
    "    return highvar_movie_dataset"
   ]
  },
  {
   "cell_type": "markdown",
   "metadata": {},
   "source": [
    "<h2>Part 6</h2>"
   ]
  },
  {
   "cell_type": "code",
   "execution_count": 24,
   "metadata": {},
   "outputs": [],
   "source": [
    "from sklearn.model_selection import KFold"
   ]
  },
  {
   "cell_type": "code",
   "execution_count": 25,
   "metadata": {},
   "outputs": [],
   "source": [
    "# Function that returns mean rating of the user\n",
    "def mean_rating(user):\n",
    "    user_dataset = dataset.loc[dataset['userId'] == user]\n",
    "    l = len(user_dataset)\n",
    "    rating_sum = np.sum(user_dataset['rating'])\n",
    "    return rating_sum/l"
   ]
  },
  {
   "cell_type": "code",
   "execution_count": 26,
   "metadata": {},
   "outputs": [
    {
     "data": {
      "text/plain": [
       "2.5499999999999998"
      ]
     },
     "execution_count": 26,
     "metadata": {},
     "output_type": "execute_result"
    }
   ],
   "source": [
    "mean_rating(1)"
   ]
  },
  {
   "cell_type": "code",
   "execution_count": 27,
   "metadata": {},
   "outputs": [],
   "source": [
    "def rmse(preds, true_vals):\n",
    "    change = preds-true_vals\n",
    "    rms = np.sqrt(np.sum(c*c for c in change))\n",
    "    return rms/len(preds)"
   ]
  },
  {
   "cell_type": "code",
   "execution_count": 28,
   "metadata": {},
   "outputs": [],
   "source": [
    "def naive_cf(df, subset):\n",
    "    error = []\n",
    "    for i in range(10):\n",
    "        kf = KFold(n_splits = 10, shuffle = True, random_state = 2)\n",
    "        result = next(kf.split(df), None)\n",
    "        train = df.iloc[result[0]]\n",
    "        test =  df.iloc[result[1]]\n",
    "        if subset == 'entire':\n",
    "            test2 = test\n",
    "        if subset == 'popular':\n",
    "            test2 = get_popular_dataset(test)\n",
    "        if subset == 'unpopular':\n",
    "            test2 = get_unpopular_dataset(test)\n",
    "        if subset == 'highvar':\n",
    "            test2 = get_highvar_dataset(test)\n",
    "        predictions = [mean_rating(i) for i in test2['userId']]\n",
    "        error.append(rmse(predictions, test2['rating']))\n",
    "    print(\"RMSE 10-fold cross validation: \", np.sum(error)/10)"
   ]
  },
  {
   "cell_type": "code",
   "execution_count": 30,
   "metadata": {},
   "outputs": [
    {
     "name": "stdout",
     "output_type": "stream",
     "text": [
      "Entire dataset\n",
      "RMSE 10-fold cross validation:  0.00945855717302\n"
     ]
    }
   ],
   "source": [
    "# Question 30\n",
    "print(\"Entire dataset\")\n",
    "naive_cf(dataset, \"entire\")"
   ]
  },
  {
   "cell_type": "code",
   "execution_count": 31,
   "metadata": {},
   "outputs": [
    {
     "name": "stdout",
     "output_type": "stream",
     "text": [
      "Popular movie dataset\n",
      "RMSE 10-fold cross validation:  0.00309672353362\n"
     ]
    }
   ],
   "source": [
    "# Question 31\n",
    "print(\"Popular movie dataset\")\n",
    "naive_cf(dataset, \"popular\")"
   ]
  },
  {
   "cell_type": "code",
   "execution_count": 32,
   "metadata": {},
   "outputs": [
    {
     "name": "stdout",
     "output_type": "stream",
     "text": [
      "Unpopular movie dataset\n",
      "RMSE 10-fold cross validation:  0.0136684295982\n"
     ]
    }
   ],
   "source": [
    "# Question 32\n",
    "print(\"Unpopular movie dataset\")\n",
    "naive_cf(dataset, \"unpopular\")"
   ]
  },
  {
   "cell_type": "code",
   "execution_count": 33,
   "metadata": {},
   "outputs": [
    {
     "name": "stdout",
     "output_type": "stream",
     "text": [
      "High variance movie dataset\n",
      "RMSE 10-fold cross validation:  0.0485738386232\n"
     ]
    }
   ],
   "source": [
    "# Question 33\n",
    "print(\"High variance movie dataset\")\n",
    "naive_cf(dataset, \"highvar\")"
   ]
  },
  {
   "cell_type": "code",
   "execution_count": null,
   "metadata": {},
   "outputs": [],
   "source": []
  }
 ],
 "metadata": {
  "kernelspec": {
   "display_name": "Python 3",
   "language": "python",
   "name": "python3"
  },
  "language_info": {
   "codemirror_mode": {
    "name": "ipython",
    "version": 3
   },
   "file_extension": ".py",
   "mimetype": "text/x-python",
   "name": "python",
   "nbconvert_exporter": "python",
   "pygments_lexer": "ipython3",
   "version": "3.6.4"
  }
 },
 "nbformat": 4,
 "nbformat_minor": 2
}
